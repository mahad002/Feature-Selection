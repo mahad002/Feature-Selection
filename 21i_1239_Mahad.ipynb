{
  "nbformat": 4,
  "nbformat_minor": 0,
  "metadata": {
    "colab": {
      "provenance": [],
      "gpuType": "T4"
    },
    "kernelspec": {
      "name": "python3",
      "display_name": "Python 3"
    },
    "language_info": {
      "name": "python"
    },
    "accelerator": "GPU"
  },
  "cells": [
    {
      "cell_type": "markdown",
      "source": [],
      "metadata": {
        "id": "aVgyPVsoY68v"
      }
    },
    {
      "cell_type": "markdown",
      "source": [
        "# **Libraries Used**"
      ],
      "metadata": {
        "id": "j58Athh2UIX1"
      }
    },
    {
      "cell_type": "code",
      "source": [
        "import os\n",
        "import pandas as pd\n",
        "import numpy as np\n",
        "from sklearn.model_selection import train_test_split\n",
        "from sklearn.preprocessing import LabelEncoder\n",
        "from keras.models import Sequential\n",
        "from keras.layers import Dense\n",
        "from keras.callbacks import EarlyStopping\n",
        "from keras.utils import to_categorical\n",
        "from keras import backend as K"
      ],
      "metadata": {
        "id": "cELFENtbULYR"
      },
      "execution_count": 8,
      "outputs": []
    },
    {
      "cell_type": "markdown",
      "source": [
        "# **Selecting and combining data**\n",
        "\n",
        "so basically I'm sleectinh the columns with modality 01, and emotions either 03 or 04. Once this is done the column representing facial recognition are selcted and all their data is stored and combined in dataframes."
      ],
      "metadata": {
        "id": "PT4CXfvzUN5m"
      }
    },
    {
      "cell_type": "code",
      "source": [
        "def select_and_combine_data(dataset_path, modality_code, emotion_codes):\n",
        "    print(\"Selecting and combining data entries...\")\n",
        "    dataframes = []\n",
        "\n",
        "    for file_name in os.listdir(dataset_path):\n",
        "        if file_name.endswith('.csv'):\n",
        "            file_info = file_name.split('.')[0].split('-')\n",
        "            if (file_info[0] == modality_code) and (file_info[2] in emotion_codes):\n",
        "                df = pd.read_csv(os.path.join(dataset_path, file_name))\n",
        "                df_selected = df.iloc[:, 298:637]\n",
        "                df_selected['label'] = file_info[2]\n",
        "                dataframes.append(df_selected)\n",
        "\n",
        "    if not dataframes:\n",
        "        raise ValueError(\"No dataframes to concatenate. Check your file filtering conditions.\")\n",
        "\n",
        "    combined_df = pd.concat(dataframes, ignore_index=True)\n",
        "    print(\"Combined DataFrame:\")\n",
        "    print(combined_df)\n",
        "\n",
        "    return combined_df"
      ],
      "metadata": {
        "id": "7ArpMPdIUWNd"
      },
      "execution_count": 6,
      "outputs": []
    },
    {
      "cell_type": "markdown",
      "source": [
        "Randomly assigning 0 and 1, telling absence or presence of a feature\n"
      ],
      "metadata": {
        "id": "V4L05q85Ur4g"
      }
    },
    {
      "cell_type": "code",
      "source": [
        "def initialize_population(population_size, chromosome_length):\n",
        "    print(\"Initializing population...\")\n",
        "    return np.random.randint(2, size=(population_size, chromosome_length))"
      ],
      "metadata": {
        "id": "mTNbO1f9UwrS"
      },
      "execution_count": 9,
      "outputs": []
    },
    {
      "cell_type": "markdown",
      "source": [
        "# **Fitness Function**\n",
        "\n",
        "  Input Parameters:\n",
        "\n",
        "  chromosome: This parameter represents a binary string where each bit corresponds to whether a feature is selected (1) or not (0).\n",
        "  X_train: The feature matrix of the training dataset.\n",
        "  X_test: The feature matrix of the testing dataset.\n",
        "  y_train: The target labels of the training dataset.\n",
        "  y_test: The target labels of the testing dataset.\n",
        "\n",
        "  **chromosome** is used to select the features from dataset, if 1 it is selected if 0 then not selected.\n",
        "\n",
        "Neural Network\n",
        "using keras sequential API, several dense layers are consisted in the architecture with ReLU activation function, followed by softmax activation function in output layer.\n",
        "\n",
        "The model is compiled with appropriate loss function ('categorical_crossentropy'), optimizer ('adam'), and evaluation metric ('accuracy').\n",
        "\n",
        "The EarlyStopping callback is used to monitor the validation loss during training and stop training early if the loss does not improve after a certain number of epochs (patience=1 in your code).\n",
        "\n",
        "The model is trained using the training data (X_train_selected and y_train) for a specified number of epochs (1 epoch in your code) and a batch size of 256. The training process is performed silently (verbose=0) to avoid printing training progress to the console.\n",
        "\n",
        "fter training, the model's performance is evaluated using the testing data (X_test_selected and y_test). The accuracy of the model on the testing dataset is computed and returned as the fitness score.\n",
        "\n",
        "Finally, Keras session resources are cleared (K.clear_session()) and the model object is deleted to release memory resources."
      ],
      "metadata": {
        "id": "68AbNFTmU6Xv"
      }
    },
    {
      "cell_type": "code",
      "source": [
        "def evaluate_fitness(chromosome, X_train, X_test, y_train, y_test):\n",
        "    print(\"Evaluating fitness...\")\n",
        "    selected_features = X_train.columns[chromosome == 1]\n",
        "    X_train_selected = X_train[selected_features]\n",
        "    X_test_selected = X_test[selected_features]\n",
        "\n",
        "    model = Sequential([\n",
        "        Dense(120, input_dim=X_train_selected.shape[1], activation='relu'),\n",
        "        Dense(80, activation='relu'),\n",
        "        Dense(80, activation='relu'),\n",
        "        Dense(80, activation='relu'),\n",
        "        Dense(80, activation='relu'),\n",
        "        Dense(80, activation='relu'),\n",
        "        Dense(100, activation='relu'),\n",
        "        Dense(100, activation='relu'),\n",
        "        Dense(2, activation='softmax')\n",
        "    ])\n",
        "\n",
        "    model.compile(loss='categorical_crossentropy', optimizer='adam', metrics=['accuracy'])\n",
        "\n",
        "    early_stopping = EarlyStopping(monitor='val_loss', patience=1, restore_best_weights=True)\n",
        "\n",
        "    batch_size = 256\n",
        "    epochs = 1\n",
        "    model.fit(X_train_selected, to_categorical(y_train), epochs=epochs, batch_size=batch_size, verbose=0, validation_split=0.1, callbacks=[early_stopping])\n",
        "\n",
        "    _, accuracy = model.evaluate(X_test_selected, to_categorical(y_test), verbose=0)\n",
        "\n",
        "    K.clear_session()\n",
        "    del model\n",
        "\n",
        "    return accuracy"
      ],
      "metadata": {
        "id": "1_dUJSgOXEg0"
      },
      "execution_count": 10,
      "outputs": []
    },
    {
      "cell_type": "markdown",
      "source": [
        "# **Crossover Function**\n",
        "\n",
        "Imagine you have two strings of numbers, like \"010110\" and \"111000\". These strings represent different traits, like hair color or height, that you inherit from your parents.\n",
        "\n",
        "Now, to create children with a mix of traits, we randomly pick a point in each string. Let's say we pick the third point. Then, we take the first part of the first string (\"010\") and combine it with the second part of the second string (\"1000\"), creating one child. For the second child, we do the opposite: we take the first part of the second string (\"111\") and combine it with the second part of the first string (\"110\"), creating the second child.\n",
        "\n",
        "In this way, we're essentially mixing traits from both parents to create new children with a blend of characteristics."
      ],
      "metadata": {
        "id": "OKYCW4JSXJQU"
      }
    },
    {
      "cell_type": "code",
      "source": [
        "def crossover(parent1, parent2):\n",
        "    print(\"Performing crossover...\")\n",
        "    crossover_point = np.random.randint(1, len(parent1))\n",
        "    return np.concatenate((parent1[:crossover_point], parent2[crossover_point:])), np.concatenate((parent2[:crossover_point], parent1[crossover_point:]))\n"
      ],
      "metadata": {
        "id": "dDY4LHv_X4LE"
      },
      "execution_count": 11,
      "outputs": []
    },
    {
      "cell_type": "markdown",
      "source": [
        "# **Mutation Function**\n",
        "\n",
        "It initializes a loop that iterates over each gene in the chromosome.\n",
        "For each gene, it generates a random number between 0 and 1 using np.random.rand().\n",
        "\n",
        "If the random number is less than the mutation rate, it means the gene will undergo mutation.\n",
        "\n",
        "In the mutation process, it flips the gene by subtracting its value from 1 (1 - chromosome[i]). If the gene is 0, it becomes 1, and if it's 1, it becomes 0.\n",
        "\n",
        "After iterating through all genes in the chromosome, the mutated chromosome is returned.\n",
        "\n",
        "Think of mutation as a random change in one of the traits encoded in the string.\n",
        "\n",
        "Imagine you have a string of numbers representing traits, like \"010110\". Mutation means that, occasionally, one of these numbers randomly flips to its opposite. So, if we have a mutation rate of 0.1 (10%), for each trait in the string, there's a 10% chance it will change.\n",
        "\n",
        "For example, if we randomly select a position and it's a \"0\", with a mutation rate of 0.1, there's a 10% chance it will become a \"1\". Similarly, if it's a \"1\", there's a 10% chance it will become a \"0\".\n",
        "\n",
        "This process introduces randomness and diversity in the population, helping to explore new solutions in the search space."
      ],
      "metadata": {
        "id": "2pI2HtsFYBGx"
      }
    },
    {
      "cell_type": "code",
      "source": [
        "def mutate(chromosome, mutation_rate):\n",
        "    print(\"Mutating...\")\n",
        "    for i in range(len(chromosome)):\n",
        "        if np.random.rand() < mutation_rate:\n",
        "            chromosome[i] = 1 - chromosome[i]\n",
        "    return chromosome"
      ],
      "metadata": {
        "id": "XXcKR-czYXDu"
      },
      "execution_count": 12,
      "outputs": []
    },
    {
      "cell_type": "markdown",
      "source": [
        "# **Genetic Algorithm**\n",
        "\n",
        "This function, `genetic_algorithm`, is the main logic for running a genetic algorithm for feature selection. Here's a simple breakdown of what it does:\n",
        "\n",
        "1. **Initialization**: It starts by initializing the population of potential solutions (chromosomes) using the `initialize_population` function.\n",
        "\n",
        "2. **Iterative Process**: It then enters a loop that iterates over a specified number of generations.\n",
        "\n",
        "3. **Evaluation**: For each generation, it evaluates the fitness of each chromosome in the population using the `evaluate_fitness` function.\n",
        "\n",
        "4. **Selection**: Based on the fitness scores, it selects two parent chromosomes from the population probabilistically, giving higher chances to chromosomes with higher fitness scores.\n",
        "\n",
        "5. **Crossover**: It performs crossover (recombination) between the selected parent chromosomes to produce two offspring chromosomes using the `crossover` function.\n",
        "\n",
        "6. **Mutation**: It applies mutation to the offspring chromosomes with a certain probability using the `mutate` function.\n",
        "\n",
        "7. **Update Population**: It replaces the least fit chromosomes in the population with the mutated offspring.\n",
        "\n",
        "8. **Tracking Best Solution**: It keeps track of the best solution (chromosome) found so far along with its fitness score.\n",
        "\n",
        "9. **Return**: Finally, it returns the best solution found and a list of fitness scores for each generation.\n",
        "\n",
        "This process iterates for the specified number of generations, gradually improving the population's fitness and hopefully converging towards an optimal solution for the feature selection problem."
      ],
      "metadata": {
        "id": "3zVXRmy0YZ6h"
      }
    },
    {
      "cell_type": "code",
      "source": [
        "def genetic_algorithm(population_size, num_generations, mutation_rate, X_train, X_test, y_train, y_test):\n",
        "    print(\"Starting Genetic Algorithm for Feature Selection...\")\n",
        "    chromosome_length = X_train.shape[1]\n",
        "    population = initialize_population(population_size, chromosome_length)\n",
        "    best_solution = None\n",
        "    best_fitness = 0\n",
        "    accuracies = []\n",
        "\n",
        "    for generation in range(num_generations):\n",
        "        print(f\"Generation {generation + 1}/{num_generations}\")\n",
        "        fitness_scores = [evaluate_fitness(chromosome, X_train, X_test, y_train, y_test) for chromosome in population]\n",
        "        accuracies.append(fitness_scores)\n",
        "        max_fitness_index = np.argmax(fitness_scores)\n",
        "        if fitness_scores[max_fitness_index] > best_fitness:\n",
        "            best_solution = population[max_fitness_index]\n",
        "            best_fitness = fitness_scores[max_fitness_index]\n",
        "            print(f\"Generation {generation + 1}: Best Fitness = {best_fitness}\")\n",
        "\n",
        "        # Selection, crossover, and mutation\n",
        "        parents = population[np.random.choice(population_size, size=2, p=np.array(fitness_scores) / np.sum(fitness_scores))]\n",
        "        child1, child2 = crossover(parents[0], parents[1])\n",
        "        min_fitness_index = np.argmin(fitness_scores)\n",
        "        population[min_fitness_index] = mutate(child1, mutation_rate)\n",
        "        population[(min_fitness_index + 1) % population_size] = mutate(child2, mutation_rate)\n",
        "\n",
        "    return best_solution, accuracies"
      ],
      "metadata": {
        "id": "kg5zV65QYrcZ"
      },
      "execution_count": 13,
      "outputs": []
    },
    {
      "cell_type": "markdown",
      "source": [
        "# **Output and Usage**\n",
        "\n",
        "**Data Selection and Combination:**\n",
        "\n",
        "Read data files from a specific directory.\n",
        "Filter files based on criteria like modality code and emotion codes.\n",
        "Combine selected data into a single DataFrame.\n",
        "\n",
        "**Data Encoding:**\n",
        "\n",
        "Encode categorical labels into numerical format using LabelEncoder.\n",
        "\n",
        "**Data Splitting:**\n",
        "\n",
        "Separate features and labels.\n",
        "Split data into training and testing sets.\n",
        "\n",
        "**Genetic Algorithm for Feature Selection:**\n",
        "\n",
        "Initialize a population of potential solutions (chromosomes).\n",
        "Evaluate the fitness of each chromosome (solution) using a neural network model.\n",
        "\n",
        "**Iteratively evolve the population over several generations:**\n",
        "\n",
        "Select parent chromosomes based on fitness scores.\n",
        "Perform crossover and mutation operations to create new offspring chromosomes.\n",
        "Replace less fit chromosomes with mutated offspring.\n",
        "Track the best solution (selected features) and its accuracy.\n",
        "\n",
        "**Evaluation:**\n",
        "\n",
        "Evaluate the accuracy of the best solution (selected features) using the neural network model.\n",
        "Evaluate the accuracy of using all features for comparison.\n",
        "\n",
        "**Result Analysis:**\n",
        "\n",
        "Print the best solution (selected features).\n",
        "Print the accuracies of using all features and selected features.\n",
        "Determine whether feature selection improved classification accuracy.\n",
        "Print the accuracies achieved in each generation during the genetic algorithm's execution.\n",
        "\n",
        "\n",
        "\n",
        "\n",
        "\n"
      ],
      "metadata": {
        "id": "Ygg9BG2VYuou"
      }
    },
    {
      "cell_type": "code",
      "source": [
        "combined_df = select_and_combine_data(\"/content/drive/MyDrive/archive/\", '01', ['03', '04'])\n",
        "label_encoder = LabelEncoder()\n",
        "combined_df['label'] = label_encoder.fit_transform(combined_df['label'])\n",
        "X = combined_df.drop(columns=['label'])\n",
        "y = combined_df['label']\n",
        "X_train, X_test, y_train, y_test = train_test_split(X, y, test_size=0.2, random_state=42)\n",
        "\n",
        "best_solution, accuracies = genetic_algorithm(50, 10, 0.1, X_train, X_test, y_train, y_test)\n",
        "\n",
        "print(\"\\nBest Solution (Selected Features):\")\n",
        "print(X_train.columns[best_solution])\n",
        "\n",
        "accuracy_all_features = evaluate_fitness(np.ones(X_train.shape[1], dtype=int), X_train, X_test, y_train, y_test)\n",
        "accuracy_selected_features = evaluate_fitness(best_solution, X_train, X_test, y_train, y_test)\n",
        "\n",
        "print(\"Accuracy with all features:\", accuracy_all_features)\n",
        "print(\"Accuracy with selected features:\", accuracy_selected_features)\n",
        "\n",
        "if accuracy_selected_features > accuracy_all_features:\n",
        "    print(\"Feature selection improved classification accuracy.\")\n",
        "else:\n",
        "    print(\"Feature selection did not improve classification accuracy.\")\n",
        "\n",
        "# Output all accuracies\n",
        "for i, accuracy in enumerate(accuracies):\n",
        "    print(f\"Generation {i+1} Accuracies:\", accuracy)"
      ],
      "metadata": {
        "colab": {
          "base_uri": "https://localhost:8080/"
        },
        "id": "uN2RkcF0ZLDm",
        "outputId": "63916633-ff93-4447-e748-a86ab48c48d3"
      },
      "execution_count": null,
      "outputs": [
        {
          "output_type": "stream",
          "name": "stdout",
          "text": [
            "Selecting and combining data entries...\n"
          ]
        }
      ]
    },
    {
      "cell_type": "code",
      "source": [
        "from google.colab import drive\n",
        "drive.mount('/content/drive')"
      ],
      "metadata": {
        "colab": {
          "base_uri": "https://localhost:8080/"
        },
        "id": "I2VsZmhUaNhG",
        "outputId": "2fc049c1-01c0-46ab-acf7-f54d93c0a1d0"
      },
      "execution_count": 4,
      "outputs": [
        {
          "output_type": "stream",
          "name": "stdout",
          "text": [
            "Drive already mounted at /content/drive; to attempt to forcibly remount, call drive.mount(\"/content/drive\", force_remount=True).\n"
          ]
        }
      ]
    }
  ]
}